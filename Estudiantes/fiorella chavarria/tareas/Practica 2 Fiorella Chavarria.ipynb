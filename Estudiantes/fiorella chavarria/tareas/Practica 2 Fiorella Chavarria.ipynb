{
 "cells": [
  {
   "cell_type": "markdown",
   "metadata": {},
   "source": [
    "Practica 2 Fiorella Chavarria Vargas\n",
    "Instrucciones\n",
    "1. Crea una lista llamada numeros que contenga los números del 1 al 10.\n",
    "2. Agrega los números del 11 al 15 a la lista utilizando el método extend().\n",
    "3. Utiliza el método append() para agregar el número 16 al final de la lista.\n",
    "4. Utiliza el método insert() para agregar el número 0 al principio de la lista.\n",
    "    a. Imprime la lista en la pantalla de nuevo para verificar que contiene el número 0 al principio y el número 16 al final.\n",
    "5. Utiliza el método remove() para eliminar el número 5 de la lista.\n",
    "6. Utiliza el método pop() para eliminar el último número de la lista y almacenarlo en una variable llamada ultimo_numero."
   ]
  },
  {
   "cell_type": "code",
   "execution_count": 18,
   "metadata": {},
   "outputs": [
    {
     "name": "stdout",
     "output_type": "stream",
     "text": [
      "[1, 2, 3, 4, 5, 6, 7, 8, 9, 10]\n"
     ]
    }
   ],
   "source": [
    "#1. Crea una lista llamada numeros que contenga los números del 1 al 10.\n",
    "numeros = [1,2,3,4,5,6,7,8,9,10]\n",
    "print(numeros)\n"
   ]
  },
  {
   "cell_type": "code",
   "execution_count": 19,
   "metadata": {},
   "outputs": [
    {
     "name": "stdout",
     "output_type": "stream",
     "text": [
      "[1, 2, 3, 4, 5, 6, 7, 8, 9, 10, 11, 12, 13, 14, 15]\n"
     ]
    }
   ],
   "source": [
    "#2. Agrega los números del 11 al 15 a la lista utilizando el método extend().\n",
    "\n",
    "numeros_extra = [11,12,13,14,15]\n",
    "numeros.extend (numeros_extra)\n",
    "print (numeros)"
   ]
  },
  {
   "cell_type": "code",
   "execution_count": 20,
   "metadata": {},
   "outputs": [
    {
     "name": "stdout",
     "output_type": "stream",
     "text": [
      "[1, 2, 3, 4, 5, 6, 7, 8, 9, 10, 11, 12, 13, 14, 15, 16]\n"
     ]
    }
   ],
   "source": [
    "#3. Utiliza el método append() para agregar el número 16 al final de la lista.\n",
    "numeros.append(16)\n",
    "print(numeros)"
   ]
  },
  {
   "cell_type": "code",
   "execution_count": 21,
   "metadata": {},
   "outputs": [
    {
     "name": "stdout",
     "output_type": "stream",
     "text": [
      "[0, 1, 2, 3, 4, 5, 6, 7, 8, 9, 10, 11, 12, 13, 14, 15, 16]\n"
     ]
    }
   ],
   "source": [
    "#4. Utiliza el método insert() para agregar el número 0 al principio de la lista.\n",
    "numeros.insert(0,0)\n",
    "\n",
    "#a. Imprime la lista en la pantalla de nuevo para verificar que contiene el número 0 al principio y el número 16 al final.\n",
    "print(numeros)"
   ]
  },
  {
   "cell_type": "code",
   "execution_count": 14,
   "metadata": {},
   "outputs": [
    {
     "name": "stdout",
     "output_type": "stream",
     "text": [
      "[0, 1, 2, 3, 4, 6, 7, 8, 9, 10, 11, 12, 13, 14, 15, 16]\n"
     ]
    }
   ],
   "source": [
    "#5. Utiliza el método remove() para eliminar el número 5 de la lista\n",
    "\n",
    "numeros.remove(5)\n",
    "print(numeros)\n"
   ]
  },
  {
   "cell_type": "code",
   "execution_count": 23,
   "metadata": {},
   "outputs": [
    {
     "name": "stdout",
     "output_type": "stream",
     "text": [
      "16\n",
      "[0, 1, 2, 3, 4, 5, 6, 7, 8, 9, 10, 11, 12, 13, 14]\n"
     ]
    }
   ],
   "source": [
    "#6. Utiliza el método pop() para eliminar el último número de la lista y almacenarlo en una variable llamada ultimo_numero.\n",
    "ultimo_numero = numeros.pop(15)\n",
    "\n",
    "print(ultimo_numero)\n",
    "print (numeros)\n"
   ]
  }
 ],
 "metadata": {
  "kernelspec": {
   "display_name": "Python 3",
   "language": "python",
   "name": "python3"
  },
  "language_info": {
   "codemirror_mode": {
    "name": "ipython",
    "version": 3
   },
   "file_extension": ".py",
   "mimetype": "text/x-python",
   "name": "python",
   "nbconvert_exporter": "python",
   "pygments_lexer": "ipython3",
   "version": "3.13.1"
  }
 },
 "nbformat": 4,
 "nbformat_minor": 2
}
