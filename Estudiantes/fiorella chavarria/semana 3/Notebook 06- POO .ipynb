{
 "cells": [
  {
   "cell_type": "markdown",
   "metadata": {},
   "source": [
    "## 1. Introducción a la POO \n",
    "- ¿Qué es la POO? \n",
    "- Características principales \n",
    "- Comparación con la programación estructurada \n",
    "  \n",
    "## 2. Conceptos Claves de la POO \n",
    "- Clases y Objetos \n",
    "- Atributos y Métodos \n",
    "- Encapsulamiento \n",
    "- Herencia \n",
    "- Polimorfismo \n",
    "  \n",
    "## 3. Ejemplos Prácticos de cada Concepto \n",
    "- Definir una clase simple \n",
    "- Crear y manipular objetos \n",
    "- Aplicar herencia y polimorfismo \n",
    "  \n",
    "## 4. Desarrollo de un Proyecto Aplicado \n",
    "- Descripción del proyecto \n",
    "- Implementación paso a paso \n",
    "  \n",
    "--- \n",
    "  \n",
    "## 🟢 1. Introducción a la POO \n",
    "La **Programación Orientada a Objetos (POO)** es un paradigma de programación basado en la idea de modelar entidades del mundo real a través de **objetos**. \n",
    "  \n",
    "### ✅ Características clave de la POO: \n",
    "- **Abstracción:** Modela objetos del mundo real en código. \n",
    "- **Encapsulamiento:** Protege los datos y métodos dentro de una clase. \n",
    "- **Herencia:** Permite reutilizar código mediante la relación padre-hijo. \n",
    "- **Polimorfismo:** Usa el mismo método con diferentes implementaciones. \n",
    "  \n",
    "### 📌 Diferencia entre programación estructurada y POO: \n",
    "  \n",
    "| Característica       | Programación Estructurada | Programación Orientada a Objetos | \n",
    "|---------------------|------------------------|--------------------------------| \n",
    "| **Organización**   | Basada en funciones    | Basada en clases y objetos    | \n",
    "| **Reutilización**  | Baja                   | Alta                          | \n",
    "| **Mantenimiento**  | Más complejo           | Más modular y escalable      | "
   ]
  },
  {
   "cell_type": "code",
   "execution_count": 1,
   "metadata": {},
   "outputs": [
    {
     "name": "stdout",
     "output_type": "stream",
     "text": [
      "<class 'list'>\n"
     ]
    }
   ],
   "source": [
    "# COMO CREAR UNA CLASE\n",
    "\n",
    "lista = [0,1,2,3]\n",
    "print(type(lista))"
   ]
  },
  {
   "cell_type": "code",
   "execution_count": 4,
   "metadata": {},
   "outputs": [
    {
     "ename": "AttributeError",
     "evalue": "'Persona' object has no attribute 'nombre'",
     "output_type": "error",
     "traceback": [
      "\u001b[1;31m---------------------------------------------------------------------------\u001b[0m",
      "\u001b[1;31mAttributeError\u001b[0m                            Traceback (most recent call last)",
      "Cell \u001b[1;32mIn[4], line 8\u001b[0m\n\u001b[0;32m      4\u001b[0m         \u001b[38;5;28mself\u001b[39m\u001b[38;5;241m.\u001b[39medad \u001b[38;5;241m=\u001b[39m \u001b[38;5;241m21\u001b[39m\n\u001b[0;32m      6\u001b[0m estudiante  \u001b[38;5;241m=\u001b[39m Persona()\n\u001b[1;32m----> 8\u001b[0m \u001b[38;5;28mprint\u001b[39m (\u001b[43mestudiante\u001b[49m\u001b[38;5;241;43m.\u001b[39;49m\u001b[43mnombre\u001b[49m)\n",
      "\u001b[1;31mAttributeError\u001b[0m: 'Persona' object has no attribute 'nombre'"
     ]
    }
   ],
   "source": [
    "class Persona:\n",
    "    def _init_(self):\n",
    "        self.nombre = 'fiorella'\n",
    "        self.edad = 21\n",
    "\n",
    "estudiante  = Persona()\n",
    "\n",
    "print (estudiante.nombre)"
   ]
  }
 ],
 "metadata": {
  "kernelspec": {
   "display_name": "Python 3",
   "language": "python",
   "name": "python3"
  },
  "language_info": {
   "codemirror_mode": {
    "name": "ipython",
    "version": 3
   },
   "file_extension": ".py",
   "mimetype": "text/x-python",
   "name": "python",
   "nbconvert_exporter": "python",
   "pygments_lexer": "ipython3",
   "version": "3.13.1"
  }
 },
 "nbformat": 4,
 "nbformat_minor": 2
}
