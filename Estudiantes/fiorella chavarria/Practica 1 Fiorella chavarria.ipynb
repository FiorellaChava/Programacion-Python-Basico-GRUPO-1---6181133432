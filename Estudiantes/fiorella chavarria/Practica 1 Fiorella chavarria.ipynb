{
 "cells": [
  {
   "cell_type": "markdown",
   "metadata": {},
   "source": [
    "Mi primer programa de python \n",
    "Instrucciones: Crear un reporte (utilice la plantilla brindada por el profesor) entregue en formato PDF (únicamente). El reporte debe contener los siguientes elementos para cada pregunta:\n",
    "\n",
    "1.     La pregunta, instructivo o problema a resolver\n",
    "2.     El código solución\n",
    "3.     El resultado"
   ]
  },
  {
   "cell_type": "code",
   "execution_count": 2,
   "metadata": {},
   "outputs": [
    {
     "name": "stdout",
     "output_type": "stream",
     "text": [
      "El area del triangulo es : 150.0\n"
     ]
    }
   ],
   "source": [
    "# Ejercicio 1: Dado los valores ingresados por el usuario (base, altura) calcular y mostrar en pantalla el área de un triángulo\n",
    "\n",
    "base = 15\n",
    "altura = 20\n",
    "\n",
    "area = (base * altura / 2)\n",
    "print (f\"El area del triangulo es : {area}\")\n"
   ]
  },
  {
   "cell_type": "code",
   "execution_count": 3,
   "metadata": {},
   "outputs": [
    {
     "name": "stdout",
     "output_type": "stream",
     "text": [
      "El area del triangulo es : 225.0\n"
     ]
    }
   ],
   "source": [
    "#Ejercicio 1.2: Si el usuario ingresa los valores seria asi:\n",
    "base = float(input(\"Ingrese el valor de la base del triangulo: \"))\n",
    "altura = float(input(\"Ingrese el valor de la altura del triangulo: \"))\n",
    "\n",
    "area = (base * altura / 2)\n",
    "print (f\"El area del triangulo es : {area}\")"
   ]
  },
  {
   "cell_type": "code",
   "execution_count": 4,
   "metadata": {},
   "outputs": [
    {
     "name": "stdout",
     "output_type": "stream",
     "text": [
      "60.0 Dolares es equivalente a 30441.600000000002 Colones\n"
     ]
    }
   ],
   "source": [
    "#Convertir la cantidad de dólares ingresados por un usuario a colones y mostrar el resultado en pantalla\n",
    "\n",
    "dolares = float(input('Ingrese el total de dolares: '))\n",
    "\n",
    "tipo_de_cambio = 507.36\n",
    "\n",
    "colones = dolares * tipo_de_cambio\n",
    "\n",
    "print (f\"{dolares} Dolares es equivalente a {colones} Colones\")"
   ]
  },
  {
   "cell_type": "code",
   "execution_count": 5,
   "metadata": {},
   "outputs": [
    {
     "name": "stdout",
     "output_type": "stream",
     "text": [
      "50.0 grados centígrados equivalen a 122.0 grados Fahrenheit\n"
     ]
    }
   ],
   "source": [
    "#. Convertir los grados centígrados ingresados por un usuario a grados Fahrenheit y mostrar el resultado en pantalla.\n",
    "\n",
    "centigrados = float(input('Ingrese el total de dolares: '))\n",
    "fahrenheit = (centigrados * 9/5 + 32)\n",
    "\n",
    "print(f\"{centigrados} grados centígrados equivalen a {fahrenheit} grados Fahrenheit\")"
   ]
  }
 ],
 "metadata": {
  "kernelspec": {
   "display_name": "Python 3",
   "language": "python",
   "name": "python3"
  },
  "language_info": {
   "codemirror_mode": {
    "name": "ipython",
    "version": 3
   },
   "file_extension": ".py",
   "mimetype": "text/x-python",
   "name": "python",
   "nbconvert_exporter": "python",
   "pygments_lexer": "ipython3",
   "version": "3.13.1"
  }
 },
 "nbformat": 4,
 "nbformat_minor": 2
}
