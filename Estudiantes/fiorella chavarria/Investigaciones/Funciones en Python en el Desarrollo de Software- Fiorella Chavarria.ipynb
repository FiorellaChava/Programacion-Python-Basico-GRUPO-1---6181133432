{
 "cells": [
  {
   "cell_type": "markdown",
   "metadata": {},
   "source": [
    "\n",
    "# Exploración Teórica y Aplicación Práctica de las Funciones en Python \n",
    "\n",
    "### Estudiante: Fiorella Chavarria Vargas\n",
    "\n",
    "\n"
   ]
  },
  {
   "cell_type": "markdown",
   "metadata": {},
   "source": [
    "## 📌 Sección 1: Introducción\n",
    "\n",
    "El proposito de este Notebook es explicar a profundidad el uso de las funciones en python. En el desarrollo de software, las funciones son una herramienta clave que permite a los programadores encapsular y reutilizar código, facilitando la resolución de problemas y el mantenimiento de proyectos de gran escala.\n",
    "\n",
    "Las funciones en Python no solo permiten mejorar la estructura del código, sino también optimizar el rendimiento y la comprensión del código por parte de otros desarrolladores."
   ]
  },
  {
   "cell_type": "markdown",
   "metadata": {},
   "source": [
    " ## 📌 Sección 2: Investigación y Ejemplos\n",
    "\n",
    " ### 3.1 ¿Qué son las funciones?\n",
    "  Una función es un bloque de código que realiza una tarea específica y puede ser reutilizado en diferentes partes de un programa. Las funciones permiten aislar y organizar el código, evitando la repetición innecesaria. Se utilizan para simplificar tareas complejas dividiendo el código en piezas más pequeñas y manejables. Las funciones pueden recibir entradas (parámetros) y devolver resultados (valores), lo que facilita la legibilidad, mantenibilidad y pruebas del código.\n",
    "\n",
    "  Pero.... ¿De donde provienen las funciones?\n",
    "\n",
    "  Estas pueden provenir directamente del codigo, de los modulos preinstalados de python  o de este mismo.\n",
    "\n",
    "  Algunos ejemplos de funciones son:\n",
    "\n",
    "  ### Funciones numéricas:\n",
    "\n",
    "\n",
    "abs(): devuelve el valor absoluto de un número\n",
    "\n",
    "round(): redondea un número a un número entero\n",
    "\n",
    "pow(): devuelve el resultado de elevar un número a una potencia dada\n",
    "\n",
    "max(): devuelve el valor máximo de una secuencia de números\n",
    "\n",
    "min(): devuelve el valor mínimo de una secuencia de números\n",
    "\n",
    "\n",
    "  ### VFunciones de cadena de texto:\n",
    "\n",
    "len(): devuelve la longitud de una cadena de texto\n",
    "\n",
    "str(): convierte un objeto en una cadena de texto\n",
    "\n",
    "upper(): convierte una cadena de texto en mayúsculas\n",
    "\n",
    "lower(): convierte una cadena de texto en minúsculas\n",
    "\n",
    "split(): divide una cadena de texto en una lista de subcadenas\n",
    "\n",
    "\n",
    "  ### Funciones de secuencia:\n",
    "\n",
    "range(): devuelve una secuencia de números\n",
    "\n",
    "list(): convierte una secuencia en una lista\n",
    "\n",
    "tuple(): convierte una secuencia en una tupla\n",
    "\n",
    "set(): convierte una secuencia en un conjunto\n",
    "\n",
    "\n",
    "  ### Funciones de archivo y directorio:\n",
    "\n",
    "open(): abre un archivo\n",
    "\n",
    "close(): cierra un archivo abierto\n",
    "\n",
    "read(): lee el contenido de un archivo\n",
    "\n",
    "write(): escribe datos en un archivo\n",
    "\n",
    "\n",
    "  ### Beneficios de modularizar código con funciones\n",
    " 1. Escalabilidad y extensibilidad: A medida que su proyecto crece, el código modular se escala sin esfuerzo. Se pueden agregar nuevas características o componentes sin interrumpir la funcionalidad existente.\n",
    "\n",
    " 2. Mantenibilidad y depuración: Los módulos más pequeños y bien definidos son más fáciles de mantener y depurar. Cuando surge un problema, puede concentrarse en un módulo específico en lugar de examinar un script monolítico.\n",
    "\n",
    " 3. Colaboración y trabajo en equipo: En proyectos colaborativos, la modularización promueve el trabajo en equipo. Cada miembro del equipo puede trabajar en módulos separados de forma independiente, lo que reduce los conflictos de fusión y agiliza el desarrollo.\n",
    "\n",
    " 4. Pruebas y pruebas unitarias: El código modular facilita las pruebas unitarias. Puede escribir casos de prueba para módulos individuales, garantizando su corrección y confiabilidad.\n",
    "\n",
    "\n",
    "\n",
    "  ### Importancia de la reutilización del código\n",
    "  El código modular le permite reutilizar componentes en diferentes proyectos o dentro del mismo proyecto. Al encapsular la funcionalidad en módulos separados, puede importarlos y aprovecharlos fácilmente cuando sea necesario. La reutilización de código reduce el tiempo de desarrollo y el número de errores. Cuando el código es reutilizable, no es necesario rehacer las mismas tareas, lo que mejora la eficiencia del proceso de desarrollo.\n",
    "\n",
    "\n"
   ]
  },
  {
   "cell_type": "code",
   "execution_count": 9,
   "metadata": {},
   "outputs": [
    {
     "name": "stdout",
     "output_type": "stream",
     "text": [
      "¡Hola, bienvenido a Python!\n"
     ]
    }
   ],
   "source": [
    "# Función básica en Python\n",
    "def saludar():\n",
    "    print(\"¡Hola, bienvenido a Python!\")\n",
    "\n",
    "saludar()"
   ]
  },
  {
   "cell_type": "markdown",
   "metadata": {},
   "source": [
    " ### 3.2 Tipos de Funciones en Python\n"
   ]
  },
  {
   "cell_type": "markdown",
   "metadata": {},
   "source": [
    "### Funciones con y sin retorno\n",
    "Las funciones pueden o no devolver un valor. Si la función devuelve un valor, se usa la palabra clave return."
   ]
  },
  {
   "cell_type": "code",
   "execution_count": 10,
   "metadata": {},
   "outputs": [
    {
     "name": "stdout",
     "output_type": "stream",
     "text": [
      "77.0\n"
     ]
    }
   ],
   "source": [
    "#Ejemplo de función con retorno:\n",
    "def celsius_a_fahrenheit(celsius):\n",
    "    return (celsius * 9/5) + 32\n",
    "\n",
    "resultado = celsius_a_fahrenheit(25)\n",
    "print(resultado) "
   ]
  },
  {
   "cell_type": "code",
   "execution_count": 11,
   "metadata": {},
   "outputs": [
    {
     "name": "stdout",
     "output_type": "stream",
     "text": [
      "¡Hola, mundo!\n"
     ]
    }
   ],
   "source": [
    "#Ejemplo de función sin retorno:\n",
    "def saludo():\n",
    "    print(\"¡Hola, mundo!\")\n",
    "saludo()"
   ]
  },
  {
   "cell_type": "markdown",
   "metadata": {},
   "source": [
    "### Funciones con parámetros y valores predeterminados\n",
    "Las funciones pueden aceptar parámetros para realizar operaciones. Además, pueden tener valores predeterminados en caso de que no se pasen argumentos."
   ]
  },
  {
   "cell_type": "code",
   "execution_count": 12,
   "metadata": {},
   "outputs": [
    {
     "name": "stdout",
     "output_type": "stream",
     "text": [
      "15\n"
     ]
    }
   ],
   "source": [
    "# Ejemplo de función con parámetros\n",
    "def area_rectangulo(largo, ancho):\n",
    "    return largo * ancho\n",
    "\n",
    "resultado = area_rectangulo(5, 3)\n",
    "print(resultado)  "
   ]
  },
  {
   "cell_type": "code",
   "execution_count": 13,
   "metadata": {},
   "outputs": [
    {
     "name": "stdout",
     "output_type": "stream",
     "text": [
      "Hola, Invitado!\n",
      "Hola, Fiorella!\n"
     ]
    }
   ],
   "source": [
    "#Ejemplo de función con parámetros predeterminados\n",
    "def saludar(nombre=\"Invitado\"):\n",
    "    print(f\"Hola, {nombre}!\")\n",
    "\n",
    "saludar()          \n",
    "saludar(\"Fiorella\")    "
   ]
  },
  {
   "cell_type": "markdown",
   "metadata": {},
   "source": [
    "### Uso de *args y **kwargs.\n",
    "args: Permite pasar un número variable de argumentos no clave a una función.\n",
    "\n",
    "kwargs: Permite pasar un número variable de argumentos con clave.\n"
   ]
  },
  {
   "cell_type": "code",
   "execution_count": 14,
   "metadata": {},
   "outputs": [
    {
     "name": "stdout",
     "output_type": "stream",
     "text": [
      "105\n"
     ]
    }
   ],
   "source": [
    "#Ejemplo de args:\n",
    "def maximo(*args):\n",
    "    return max(args)\n",
    "\n",
    "resultado = maximo(20, 5, 70, 23, 105)\n",
    "print(resultado) "
   ]
  },
  {
   "cell_type": "code",
   "execution_count": 15,
   "metadata": {},
   "outputs": [
    {
     "name": "stdout",
     "output_type": "stream",
     "text": [
      "nombre: Fiorella\n",
      "edad: 21\n"
     ]
    }
   ],
   "source": [
    "#Ejemplo de kwargs:\n",
    "def imprimir_datos(**kwargs):\n",
    "    for clave, valor in kwargs.items():\n",
    "        print(f\"{clave}: {valor}\")\n",
    "\n",
    "imprimir_datos(nombre=\"Fiorella\", edad=21)  "
   ]
  },
  {
   "cell_type": "markdown",
   "metadata": {},
   "source": [
    "### Funciones anónimas (lambda)\n",
    "Las funciones lambda son funciones pequeñas y anónimas que se pueden definir en una sola línea."
   ]
  },
  {
   "cell_type": "code",
   "execution_count": 16,
   "metadata": {},
   "outputs": [
    {
     "name": "stdout",
     "output_type": "stream",
     "text": [
      "260\n"
     ]
    }
   ],
   "source": [
    "multiplicar = lambda x, y: x * y\n",
    "\n",
    "resultado = multiplicar(5, 52)\n",
    "print(resultado) "
   ]
  },
  {
   "cell_type": "markdown",
   "metadata": {},
   "source": [
    "### Funciones recursivas.\n",
    "Una función recursiva es aquella que se llama a sí misma. Se utiliza para resolver problemas que pueden dividirse en subproblemas más pequeños."
   ]
  },
  {
   "cell_type": "code",
   "execution_count": 17,
   "metadata": {},
   "outputs": [
    {
     "name": "stdout",
     "output_type": "stream",
     "text": [
      "5\n",
      "4\n",
      "3\n",
      "2\n",
      "1\n"
     ]
    }
   ],
   "source": [
    "def imprimir_inverso(lista):\n",
    "    if lista:  \n",
    "        print(lista[-1])  \n",
    "        imprimir_inverso(lista[:-1])  \n",
    "\n",
    "imprimir_inverso([1, 2, 3, 4, 5])"
   ]
  },
  {
   "cell_type": "markdown",
   "metadata": {},
   "source": [
    "### Generadores (yield)\n",
    "Un generador es una función que devuelve un iterador. En lugar de devolver un valor, utiliza la palabra clave yield."
   ]
  },
  {
   "cell_type": "code",
   "execution_count": 18,
   "metadata": {},
   "outputs": [
    {
     "name": "stdout",
     "output_type": "stream",
     "text": [
      "0\n",
      "2\n",
      "4\n",
      "6\n",
      "8\n",
      "10\n",
      "12\n",
      "14\n",
      "16\n",
      "18\n",
      "20\n",
      "22\n",
      "24\n",
      "26\n",
      "28\n"
     ]
    }
   ],
   "source": [
    "def numeros_pares(rango):\n",
    "    for numero in range(rango):\n",
    "        if numero % 2 == 0:\n",
    "            yield numero\n",
    "\n",
    "for numero in numeros_pares(30):\n",
    "    print(numero)"
   ]
  },
  {
   "cell_type": "markdown",
   "metadata": {},
   "source": [
    "### Closures y decoradores.\n",
    "Un closure es una función dentro de otra que recuerda el entorno en el que fue creada. Un decorador es una función que se utiliza para modificar el comportamiento de otra función"
   ]
  },
  {
   "cell_type": "code",
   "execution_count": 19,
   "metadata": {},
   "outputs": [
    {
     "name": "stdout",
     "output_type": "stream",
     "text": [
      "116\n",
      "300\n"
     ]
    }
   ],
   "source": [
    "#Ejemplo de closure:\n",
    "def multiplicar_por(factor):\n",
    "    def multiplicar(numero):\n",
    "        return numero * factor\n",
    "    return multiplicar\n",
    "multiplicar_por_dos = multiplicar_por(2)\n",
    "\n",
    "print(multiplicar_por_dos(58))  \n",
    "print(multiplicar_por_dos(150)) "
   ]
  },
  {
   "cell_type": "code",
   "execution_count": 20,
   "metadata": {},
   "outputs": [
    {
     "name": "stdout",
     "output_type": "stream",
     "text": [
      "Bienvenido, admin!\n",
      "Acceso denegado.\n"
     ]
    }
   ],
   "source": [
    "#Ejemplo de decorador:\n",
    "def verificar_permiso(func):\n",
    "    def envoltura(usuario):\n",
    "        if usuario == \"admin\":\n",
    "            return func(usuario)\n",
    "        else:\n",
    "            print(\"Acceso denegado.\")\n",
    "    return envoltura\n",
    "\n",
    "@verificar_permiso\n",
    "def acceso_usuario(usuario):\n",
    "    print(f\"Bienvenido, {usuario}!\")\n",
    "\n",
    "acceso_usuario(\"admin\")   \n",
    "acceso_usuario(\"usuario\")"
   ]
  },
  {
   "cell_type": "markdown",
   "metadata": {},
   "source": [
    "## 3.3 Aplicación de Funciones en Problemas Reales"
   ]
  },
  {
   "cell_type": "markdown",
   "metadata": {},
   "source": [
    "## 📌3.3 Aplicación de Funciones en Problemas Reales\n"
   ]
  },
  {
   "cell_type": "markdown",
   "metadata": {},
   "source": [
    "### Aplicación en estructuras de datos (listas, diccionarios)\n",
    "\n",
    "La lista es un tipo de dato en Python que se utiliza para almacenar múltiples objetos. Es una colección ordenada y mutable de elementos separados por comas entre corchetes. Aquí están todos lalgunos métodos de los objetos lista:\n",
    "\n",
    "-list.append(x)\n",
    "Add an item to the end of the list. Similar to a[len(a):] = [x].\n",
    "\n",
    "-list.extend(iterable)\n",
    "Extend the list by appending all the items from the iterable. Similar to a[len(a):] = iterable.\n",
    "\n",
    "-list.insert(i, x)\n",
    "Inserta un ítem en una posición dada. El primer argumento es el índice del ítem delante del cual se insertará, por lo tanto a.insert(0, x) inserta al principio de la lista y a.insert(len(a), x) equivale a a.append(x).\n",
    "\n",
    "-list.remove(x)\n",
    "Quita el primer ítem de la lista cuyo valor sea x. Lanza un ValueError si no existe tal ítem.\n",
    "\n",
    "-list.pop([i])\n",
    "Remove the item at the given position in the list, and return it. If no index is specified, a.pop() removes and returns the last item in the list. It raises an IndexError if the list is empty or the index is outside the list range.\n",
    "\n",
    "-list.clear()\n",
    "Remove all items from the list. Similar to del a[:].\n",
    "\n",
    "-list.index(x[, start[, end]])\n",
    "Retorna el índice basado en cero del primer elemento cuyo valor sea igual a x. Lanza una excepción ValueError si no existe tal elemento."
   ]
  },
  {
   "cell_type": "code",
   "execution_count": null,
   "metadata": {},
   "outputs": [],
   "source": [
    "my_list = [1, None, True, \"Soy una cadena\", 256, 0]"
   ]
  },
  {
   "cell_type": "markdown",
   "metadata": {},
   "source": [
    "Las listas se pueden indexar y actualizar"
   ]
  },
  {
   "cell_type": "code",
   "execution_count": null,
   "metadata": {},
   "outputs": [],
   "source": [
    "my_list = [1, None, True, 'Soy una cadena', 256, 0]\n",
    "print(my_list[3])  \n",
    "print(my_list[-1])  \n",
    " \n",
    "my_list[1] = '?'\n",
    "print(my_list)  \n",
    " \n",
    "my_list.insert(0, \"primero\")\n",
    "my_list.append(\"último\")\n",
    "print(my_list)"
   ]
  },
  {
   "cell_type": "markdown",
   "metadata": {},
   "source": [
    "Las listas pueden estar anidadas"
   ]
  },
  {
   "cell_type": "code",
   "execution_count": null,
   "metadata": {},
   "outputs": [],
   "source": [
    "my_list = [1, 'a', [\"lista\", 64, [0, 1], False]]"
   ]
  },
  {
   "cell_type": "markdown",
   "metadata": {},
   "source": [
    "Los elementos de la lista y las listas se pueden eliminar"
   ]
  },
  {
   "cell_type": "code",
   "execution_count": null,
   "metadata": {},
   "outputs": [],
   "source": [
    "my_list = [1, 2, 3, 4]\n",
    "del my_list[2]\n",
    "print(my_list)  \n",
    " \n",
    "del my_list "
   ]
  },
  {
   "cell_type": "markdown",
   "metadata": {},
   "source": [
    "Un uso real de las listas es cuando se desea organizar o ordenar una lista de manera personalizada, como por ejemplo, si uno tiene que organizar nombres en orden alfabético. Supongamos que trabajamos en un colegio y, a medida que las personas se inscriben, las anotamos en una lista. Sin embargo, para llevar un mayor orden y poder dividirlos en clases, necesitamos acomodarlos de manera alfabética"
   ]
  },
  {
   "cell_type": "code",
   "execution_count": 30,
   "metadata": {},
   "outputs": [
    {
     "name": "stdout",
     "output_type": "stream",
     "text": [
      "Lista ordenada alfabéticamente: ['Ana', 'Felipe', 'Fiorella', 'Isaac', 'Kevin', 'Maria', 'Pedro', 'Valeria']\n"
     ]
    }
   ],
   "source": [
    "nombres_desordenados = ['Fiorella', 'Ana', 'Isaac', 'Pedro', 'Felipe','Maria','Valeria','Kevin']\n",
    "\n",
    "nombres_desordenados.sort()\n",
    "\n",
    "print(\"Lista ordenada alfabéticamente:\", nombres_desordenados)"
   ]
  },
  {
   "cell_type": "markdown",
   "metadata": {},
   "source": [
    "Los diccionarios son colecciones indexadas de datos, mutables y desordenadas. \n",
    "Cada diccionario es un par de clave:valor. Se puede crear empleando la siguiente sintaxis:"
   ]
  },
  {
   "cell_type": "code",
   "execution_count": null,
   "metadata": {},
   "outputs": [],
   "source": [
    "my_dictionary = {\n",
    "    key1: value1,\n",
    "    key2: value2,\n",
    "    key3: value3,\n",
    "}"
   ]
  },
  {
   "cell_type": "markdown",
   "metadata": {},
   "source": [
    " Si se desea acceder a un elemento del diccionario, se puede hacer haciendo referencia a su clave colocándola dentro de corchetes (Ejemplo 1) o utilizando el método get()"
   ]
  },
  {
   "cell_type": "code",
   "execution_count": 2,
   "metadata": {},
   "outputs": [
    {
     "name": "stdout",
     "output_type": "stream",
     "text": [
      "castillo\n"
     ]
    }
   ],
   "source": [
    "ENG_esp_dictionary = {\n",
    "    \"Castle\": \"castillo\",\n",
    "    \"water\": \"agua\",\n",
    "    \"Earth\": \"tierra\"\n",
    "    }\n",
    " \n",
    "ENG_esp_dictionary[\"Castle\"] = \"castillo\"\n",
    "item = ENG_esp_dictionary[\"Castle\"]\n",
    "print(item) "
   ]
  },
  {
   "cell_type": "markdown",
   "metadata": {},
   "source": [
    "Para continuar con los ejemplos reales y siguiendo con el anterior de las listas, si ocuparamos almacenar la informacion de los estudiantes lo podriamos hacer de la siguiente manera por medio de los diccionarios:"
   ]
  },
  {
   "cell_type": "code",
   "execution_count": null,
   "metadata": {},
   "outputs": [
    {
     "name": "stdout",
     "output_type": "stream",
     "text": [
      "Fiorella tiene 21 años y su calificación final es 92.\n"
     ]
    }
   ],
   "source": [
    "estudiantes = {\n",
    "    'Isaac': {'edad': 21, 'calificacion': 90},\n",
    "    'Felipe': {'edad': 20, 'calificacion': 85},\n",
    "    'Fiorella': {'edad': 21, 'calificacion': 92},\n",
    "    'Maria': {'edad': 23, 'calificacion': 88}\n",
    "}\n",
    "\n",
    "nombre_estudiante = 'Fiorella'\n",
    "edad = estudiantes[nombre_estudiante]['edad']\n",
    "calificacion = estudiantes[nombre_estudiante]['calificacion']\n",
    "\n",
    "print(f\"{nombre_estudiante} tiene {edad} años y su calificación final es {calificacion}.\")"
   ]
  },
  {
   "cell_type": "markdown",
   "metadata": {},
   "source": [
    "### Uso de funciones en procesamiento de datos\n",
    "El uso de funciones en procesamiento de datos es fundamental para realizar tareas de manera eficiente, modular y reutilizable. Las funciones permiten aplicar transformaciones, realizar cálculos, limpiar o filtrar datos, y obtener resultados organizados de manera clara.\n",
    "\n",
    "Siguiendo con ejemplos relacionados a instituciones educativas, podríamos considerar que estamos en una clase de matemáticas y el profesor necesita tomar la decisión de si debe o no aplicar el último examen, debido a que un gran porcentaje de la clase tiene muy buenas notas. Se necesita que un 85% de los estudiantes tenga una nota superior a 95. Le podemos pedir al sistema que lo realice"
   ]
  },
  {
   "cell_type": "code",
   "execution_count": 3,
   "metadata": {},
   "outputs": [
    {
     "name": "stdout",
     "output_type": "stream",
     "text": [
      "Se aplica el último examen, ya que menos del 85% de los estudiantes tienen una nota superior a 95.\n"
     ]
    }
   ],
   "source": [
    "estudiantes = {\n",
    "    \"Fiorella\": 98,\n",
    "    \"Isaac\": 96,\n",
    "    \"Felipe\": 93,\n",
    "    \"Joaquin\": 92,\n",
    "    \"Fernanda\": 97,\n",
    "    \"Maria\": 94,\n",
    "    \"Jose\": 99,\n",
    "    \"Jessica\": 95,\n",
    "    \"Paula\": 96\n",
    "}\n",
    "\n",
    "def aplicar_examen(estudiantes):\n",
    "    estudiantes_buenas_notas = [nota for nota in estudiantes.values() if nota > 95]\n",
    "    \n",
    "    porcentaje = (len(estudiantes_buenas_notas) / len(estudiantes)) * 100\n",
    "    \n",
    "    if porcentaje >= 85:\n",
    "        return \"No se aplica el último examen, ya que el 85% o más de los estudiantes tienen una nota superior a 95.\"\n",
    "    else:\n",
    "        return \"Se aplica el último examen, ya que menos del 85% de los estudiantes tienen una nota superior a 95.\"\n",
    "\n",
    "resultado = aplicar_examen(estudiantes)\n",
    "print(resultado)"
   ]
  },
  {
   "cell_type": "markdown",
   "metadata": {},
   "source": [
    "### Optimización del rendimiento con funciones\n",
    "La optimización del rendimiento con funciones se refiere a hacer que el código sea más eficiente en términos de tiempo de ejecución y uso de recursos. Esto es especialmente importante cuando trabajamos con grandes volúmenes de datos o en situaciones donde la rapidez de procesamiento es crucial.\n",
    "\n",
    "Ahora vamos a aplicar la función filter() para realizar un filtrado de los estudiantes que pueden ser eximidos del último examen, es decir, aquellos que tienen una calificación superior a 95. Este es un ejemplo común en el contexto de una institución educativa, donde, por ejemplo, el profesor decide que los estudiantes con calificaciones muy altas pueden ser eximidos del último examen del curso."
   ]
  },
  {
   "cell_type": "code",
   "execution_count": 4,
   "metadata": {},
   "outputs": [
    {
     "name": "stdout",
     "output_type": "stream",
     "text": [
      "Estudiantes que pueden ser eximidos del examen:\n",
      "Fiorella\n",
      "Isaac\n",
      "Fernanda\n",
      "Jose\n",
      "Paula\n"
     ]
    }
   ],
   "source": [
    "def puede_eximirse(nota):\n",
    "    return nota > 95\n",
    "\n",
    "estudiantes = {\n",
    "    \"Fiorella\": 98,\n",
    "    \"Isaac\": 96,\n",
    "    \"Felipe\": 93,\n",
    "    \"Joaquin\": 92,\n",
    "    \"Fernanda\": 97,\n",
    "    \"Maria\": 94,\n",
    "    \"Jose\": 99,\n",
    "    \"Jessica\": 95,\n",
    "    \"Paula\": 96\n",
    "}\n",
    "\n",
    "estudiantes_eximidos = list(filter(lambda x: puede_eximirse(x[1]), estudiantes.items()))\n",
    "\n",
    "\n",
    "print(\"Estudiantes que pueden ser eximidos del examen:\")\n",
    "for estudiante in estudiantes_eximidos:\n",
    "    print(estudiante[0]) "
   ]
  },
  {
   "cell_type": "markdown",
   "metadata": {},
   "source": [
    "###  Comparación entre funciones definidas por el usuario y funciones integradas\n",
    "La comparación entre funciones definidas por el usuario y funciones integradas en Python nos permite entender cuándo es conveniente crear nuestras propias funciones y cuándo utilizar las funciones ya disponibles en el lenguaje. Las funciones integradas, como len(), sum(), max(), etc., son aquellas que vienen predefinidas en Python y están optimizadas para realizar tareas comunes, mientras que las funciones definidas por el usuario son aquellas que escribimos para satisfacer necesidades específicas de nuestro programa.\n",
    "\n",
    "Ejemplos de funciones integradas:\n",
    "\n",
    "len(): Devuelve la longitud de un objeto (como una lista, cadena, tupla, etc.).\n",
    "\n",
    "sum(): Suma los elementos de un iterable.\n",
    "\n",
    "max(): Devuelve el valor máximo de un iterable.\n",
    "\n",
    "min(): Devuelve el valor mínimo de un iterable.\n",
    "\n",
    "sorted(): Ordena un iterable.\n",
    "\n",
    "abs(): Devuelve el valor absoluto de un número."
   ]
  },
  {
   "cell_type": "markdown",
   "metadata": {},
   "source": [
    "La función len() nos permite obtener la longitud de un objeto iterable, como una lista. En un contexto educativo, podemos usar esta función para contar cuántos estudiantes hay en la clase, por ejemplo."
   ]
  },
  {
   "cell_type": "code",
   "execution_count": 6,
   "metadata": {},
   "outputs": [
    {
     "name": "stdout",
     "output_type": "stream",
     "text": [
      "El número total de estudiantes en la clase es: 9\n"
     ]
    }
   ],
   "source": [
    "estudiantes = [\"Fiorella\", \"Isaac\", \"Felipe\", \"Joaquin\", \"Fernanda\", \"Maria\", \"Jose\", \"Jessica\", \"Paula\"]\n",
    "\n",
    "numero_estudiantes = len(estudiantes)\n",
    "print(f\"El número total de estudiantes en la clase es: {numero_estudiantes}\")"
   ]
  },
  {
   "cell_type": "markdown",
   "metadata": {},
   "source": [
    "La función max() nos permite encontrar el valor máximo en un iterable. En un entorno educativo, podemos usarla para identificar al estudiante con la calificación más alta, quien podría recibir un reconocimiento o premio."
   ]
  },
  {
   "cell_type": "code",
   "execution_count": 8,
   "metadata": {},
   "outputs": [
    {
     "name": "stdout",
     "output_type": "stream",
     "text": [
      "El estudiante con la mayor nota es Jose con una calificación de 99.\n"
     ]
    }
   ],
   "source": [
    "estudiantes = {\n",
    "    \"Fiorella\": 98,\n",
    "    \"Isaac\": 96,\n",
    "    \"Felipe\": 93,\n",
    "    \"Joaquin\": 92,\n",
    "    \"Fernanda\": 97,\n",
    "    \"Maria\": 94,\n",
    "    \"Jose\": 99,\n",
    "    \"Jessica\": 95,\n",
    "    \"Paula\": 96\n",
    "}\n",
    "\n",
    "estudiante_maximo = max(estudiantes, key=estudiantes.get)\n",
    "nota_maxima = estudiantes[estudiante_maximo]\n",
    "\n",
    "print(f\"El estudiante con la mayor nota es {estudiante_maximo} con una calificación de {nota_maxima}.\")"
   ]
  },
  {
   "cell_type": "markdown",
   "metadata": {},
   "source": [
    " ## 📌 Sección 3: Conclusiones\n"
   ]
  },
  {
   "cell_type": "markdown",
   "metadata": {},
   "source": [
    " ## Resumen\n",
    "\n",
    "En este cuaderno, hemos observado que las funciones en Python son fundamentales para la programación modular, ya que optimizan la eficiencia, la organización y la durabilidad del código. Las funciones aumentan la claridad del programa y, a la vez, simplifican el mantenimiento y la ampliación al permitirnos encapsular código reutilizable con mayor facilidad. Asimismo, investigamos diversas clases de funciones, abarcando aquellas que generan o no un valor, funciones con parámetros por defecto, funciones anónimas (lambda), funciones recursivas y generadores, cada uno con usos específicos que ofrecen versatilidad en la programación de software.\n",
    "\n",
    "En la parte práctica, las imágenes demostraron la aplicación de las funciones en situaciones de la vida cotidiana, como la optimización de operaciones en estructuras de datos (listas, diccionarios), la gestión de información y la mejora del rendimiento a través de funciones integradas de Python, en lugar de desarrollar soluciones a medida. Estas actividades no solo enfatizaron la relevancia de las funciones en la programación cotidiana, sino que también mostraron maneras de aumentar la eficiencia y claridad del código al emplear funciones optimizadas.\n",
    "\n",
    "## Analisis personal\n",
    "\n",
    "Me parece que Python ofrece una gran cantidad de herramientas y utilidades que facilitan muchas tareas cotidianas en diversas áreas, como la ciencia de datos, el desarrollo web, la automatización de procesos y la inteligencia artificial. Su simplicidad y flexibilidad permiten que incluso aquellos sin experiencia previa en programación puedan aprovechar sus funciones y bibliotecas para resolver problemas complejos de manera eficiente. De hecho, mientras más se estudian sus capacidades, más posibilidades surgen para incorporar esta poderosa herramienta en nuestros trabajos, optimizando procesos, mejorando el rendimiento y ampliando las posibilidades de innovación en distintos campos. Python se convierte así en un aliado indispensable para mejorar nuestra productividad y creatividad en la resolución de desafíos.\n",
    "\n"
   ]
  },
  {
   "cell_type": "markdown",
   "metadata": {},
   "source": [
    "### Referencias\n",
    "\n",
    "https://entrenamiento-python-basico.readthedocs.io/es/3.7/\n",
    "\n",
    "https://docs.python.org/es/3.13/tutorial/index.html\n",
    "\n",
    "https://softwarecrafters.io/python/tutorial-de-python-introduccion\n",
    "\n",
    "https://financialmagazine.es/programacion/conceptos-basicos-para-programar-con-python/\n",
    "\n",
    "https://chatgpt.com/\n"
   ]
  }
 ],
 "metadata": {
  "kernelspec": {
   "display_name": "Python 3",
   "language": "python",
   "name": "python3"
  },
  "language_info": {
   "codemirror_mode": {
    "name": "ipython",
    "version": 3
   },
   "file_extension": ".py",
   "mimetype": "text/x-python",
   "name": "python",
   "nbconvert_exporter": "python",
   "pygments_lexer": "ipython3",
   "version": "3.13.1"
  }
 },
 "nbformat": 4,
 "nbformat_minor": 2
}
